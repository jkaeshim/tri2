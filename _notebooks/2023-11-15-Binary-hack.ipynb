{
 "cells": [
  {
   "cell_type": "markdown",
   "metadata": {},
   "source": [
    "<!-- index.html -->\n",
    "<!DOCTYPE html>\n",
    "<html lang=\"en\">\n",
    "<head>\n",
    "    <meta charset=\"UTF-8\">\n",
    "    <meta name=\"viewport\" content=\"width=device-width, initial-scale=1.0\">\n",
    "    <title>Binary Frontend</title>\n",
    "    <style>\n",
    "        body {\n",
    "            font-family: Arial, sans-serif;\n",
    "            text-align: center;\n",
    "            margin: 20px;\n",
    "        }\n",
    "        #binaryMessage {\n",
    "            font-size: 18px;\n",
    "            margin-top: 20px;\n",
    "        }\n",
    "    </style>\n",
    "</head>\n",
    "<body>\n",
    "    <h1>Binary Frontend Example</h1>\n",
    "    <button onclick=\"displayBinaryMessage()\">Click me</button>\n",
    "    <div id=\"binaryMessage\"></div>\n",
    "    <script>\n",
    "        function displayBinaryMessage() {\n",
    "            const message = \"Hello, Binary World!\";\n",
    "            const binaryMessage = textToBinary(message);\n",
    "            document.getElementById(\"binaryMessage\").innerText = `Binary Message: ${binaryMessage}`;\n",
    "        }\n",
    "        function textToBinary(text) {\n",
    "            return text.split('').map(function (char) {\n",
    "                return char.charCodeAt(0).toString(2).padStart(8, '0');\n",
    "            }).join(' ');\n",
    "        }\n",
    "    </script>\n",
    "</body>\n",
    "</html>"
   ]
  }
 ],
 "metadata": {
  "kernelspec": {
   "display_name": "Python 3",
   "language": "python",
   "name": "python3"
  },
  "language_info": {
   "codemirror_mode": {
    "name": "ipython",
    "version": 3
   },
   "file_extension": ".py",
   "mimetype": "text/x-python",
   "name": "python",
   "nbconvert_exporter": "python",
   "pygments_lexer": "ipython3",
   "version": "3.11.4"
  },
  "orig_nbformat": 4
 },
 "nbformat": 4,
 "nbformat_minor": 2
}
